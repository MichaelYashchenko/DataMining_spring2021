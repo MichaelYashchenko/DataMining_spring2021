{
 "cells": [
  {
   "cell_type": "markdown",
   "metadata": {},
   "source": [
    "### Алгоритмы интеллектуальной обработки больших объемов данных\n",
    "## Домашнее задание №4 - Градиентный бустинг\n"
   ]
  },
  {
   "cell_type": "markdown",
   "metadata": {},
   "source": [
    "**Общая информация**\n",
    "\n",
    "**Срок сдачи:** 10 мая 2021, 08:30   \n",
    "**Штраф за опоздание:** -2 балла после 08:30 10 мая, -4 балла после 08:30 17 мая, -6 баллов после 08:30 24 мая, -8 баллов после 08:30 31 мая.\n",
    "\n",
    "При отправлении ДЗ указывайте фамилию в названии файла Присылать ДЗ необходимо в виде ссылки на свой github репозиторий на почту ml1.sphere@mail.ru с указанием темы в следующем формате:\n",
    "[ML0221, Задание 4] Фамилия Имя. \n",
    "\n",
    "\n",
    "Используйте данный Ipython Notebook при оформлении домашнего задания."
   ]
  },
  {
   "cell_type": "markdown",
   "metadata": {},
   "source": [
    "##  Считаем производные для функций потерь (1 балл)"
   ]
  },
  {
   "cell_type": "markdown",
   "metadata": {},
   "source": [
    "Мы будем реализовать градиентный бустинг для 3 функций потерь:\n",
    "\n",
    "1) MSE  $L(a(x_i), y_i) = (y_i - a(x_i)) ^ 2$\n",
    "\n",
    "2) Экспоненциальная  $L(a(x_i), y_i) = exp( -a(x_i) y_i), y_i \\in \\{-1, 1\\}$\n",
    "\n",
    "3) Логистическая  $L(a(x_i), y_i) = \\log (1 + exp( -a(x_i) y_i)), y_i \\in \\{-1, 1\\}$\n",
    "\n",
    "где $a(x_i)$ предсказание бустинга на итом объекте. \n",
    "\n",
    "Для каждой функции потерь напишите таргет, на который будет настраиваться каждое дерево в бустинге. "
   ]
  },
  {
   "cell_type": "markdown",
   "metadata": {},
   "source": [
    "Ваше решение тут"
   ]
  },
  {
   "cell_type": "code",
   "execution_count": 2,
   "metadata": {},
   "outputs": [],
   "source": [
    "def MSE_target(a_i, y):\n",
    "    return 2 *(a_i - y)\n",
    "\n",
    "def exp_target(a_i, y):\n",
    "    return -y * np.exp(- y * a_i)\n",
    "\n",
    "def log_target(a_i, y):\n",
    "    return (- y * np.exp(-y * a_i)) / (1 + np.exp(-y * a_i))"
   ]
  },
  {
   "cell_type": "markdown",
   "metadata": {},
   "source": [
    "##  Реализуем градиентный бустинг (3 балла)"
   ]
  },
  {
   "cell_type": "markdown",
   "metadata": {},
   "source": [
    "Реализуйте класс градиентного бустинга для классификации. Ваша реализация бустинга должна работать по точности не более чем на 5 процентов хуже чем GradientBoostingClassifier из sklearn. \n"
   ]
  },
  {
   "cell_type": "markdown",
   "metadata": {},
   "source": [
    "Детали реализации:\n",
    "\n",
    "-- должно поддерживаться 3 функции потерь\n",
    "\n",
    "-- сами базовые алгоритмы(деревья, линейные модели и тп) реализовать не надо, просто возьмите готовые из sklearn\n",
    "\n",
    "-- в качестве функции потерь для построения одного дерева используйте MSE\n",
    "\n",
    "-- шаг в бустинге можно не подбирать, можно брать константный\n",
    "\n",
    "-- можно брать разные модели в качестве инициализации бустинга\n",
    "\n",
    "-- должны поддерживаться следующие параметры:\n",
    "\n",
    "а) число итераций\n",
    "б) размер шага\n",
    "в) процент случайных фичей при построении одного дерева\n",
    "д) процент случайных объектов при построении одного дерева\n",
    "е) параметры базового алгоритма (передавайте через **kwargs)"
   ]
  },
  {
   "cell_type": "code",
   "execution_count": 93,
   "metadata": {},
   "outputs": [],
   "source": [
    "import numpy as np\n",
    "\n",
    "from sklearn.datasets import load_wine\n",
    "from sklearn.ensemble import GradientBoostingClassifier\n",
    "from sklearn.metrics import accuracy_score\n",
    "from sklearn.model_selection import train_test_split\n",
    "from sklearn.tree import DecisionTreeRegressor\n",
    "from sklearn.dummy import DummyRegressor, DummyClassifier\n",
    "from sklearn.ensemble import RandomForestRegressor\n",
    "from sklearn.model_selection import KFold\n",
    "\n",
    "from sklearn.linear_model import LinearRegression\n",
    "from sklearn.svm import SVR\n",
    "from sklearn.neighbors import KNeighborsRegressor\n",
    "\n",
    "\n",
    "import matplotlib.pyplot as plt"
   ]
  },
  {
   "cell_type": "code",
   "execution_count": 52,
   "metadata": {},
   "outputs": [],
   "source": [
    "class MyGradientBoostingClassifier:\n",
    "\n",
    "    def __init__(self, loss=\"logit\", learning_rate=1, n_estimator=100, colsample=0.4, subsample=0.4, *args, **kwargs):\n",
    "        \"\"\"\n",
    "        loss -- один из 3 лоссов:\n",
    "        learning_rate -- шаг бустинга\n",
    "        n_estimators -- число итераций\n",
    "        colsample -- процент рандомных признаков при обучнеии одного алгоритма\n",
    "        colsample -- процент рандомных объектов при обучнеии одного алгоритма\n",
    "        args, kwargs -- параметры  базовых моделей\n",
    "        \"\"\"\n",
    "        self.loss = loss\n",
    "        self.learning_rate = learning_rate\n",
    "        self.n_estimators = n_estimator\n",
    "        self.colsample = colsample\n",
    "        self.subsample = subsample\n",
    "        self.arg_params = args\n",
    "        self.kwarg_params = kwargs\n",
    "        self.models = []\n",
    "        \n",
    "    def __calc_target_grad(self, models, X, y):\n",
    "        if len(models) == 0:\n",
    "            return np.random.uniform(size=y.shape[0])\n",
    "        a_i = self._predict_est(X, models)\n",
    "        if self.loss == \"mse\":\n",
    "            return MSE_target(a_i, y)\n",
    "        elif self.loss == \"exponent\":\n",
    "            return exp_target(a_i, y)\n",
    "        elif self.loss == \"logit\":\n",
    "            return log_target(a_i, y)\n",
    "        else:\n",
    "            raise NotImplementedError(\"No such loss function\")\n",
    "        \n",
    "        \n",
    "    \n",
    "    def fit(self, X, y, base_model=DecisionTreeRegressor, init_model=None):\n",
    "        \"\"\"\n",
    "        X -- объекты для обучения:\n",
    "        y -- таргеты для обучения\n",
    "        base_model -- класс базовых моделей, например sklearn.tree.DecisionTreeRegressor\n",
    "        init_model -- класс для первой модели, если None то берем константу (только для посл задания)\n",
    "        \"\"\"\n",
    "        if init_model is not None:\n",
    "            model = init_model()\n",
    "        else:\n",
    "            model = DummyRegressor(strategy=\"constant\", constant=0.0)\n",
    "        \n",
    "        for i in range(self.n_estimators + 1):\n",
    "            subsample_idx = np.random.choice(X.shape[0], round(X.shape[0] * self.subsample), replace=False)\n",
    "            sub_X = X[subsample_idx]\n",
    "            sub_y = y[subsample_idx]\n",
    "            target_grad = self.__calc_target_grad(self.models, sub_X, sub_y)\n",
    "            if i != 0:\n",
    "                model = base_model(max_features=round(X.shape[1] * self.colsample), *self.arg_params, **self.kwarg_params)\n",
    "            model.fit(sub_X, target_grad)\n",
    "            self.models.append(model)\n",
    "        return self\n",
    "    \n",
    "    def _predict_est(self, X, models=None):\n",
    "        if models is None:\n",
    "            models = self.models\n",
    "        pred = models[0].predict(X)\n",
    "        for m in models[1:]:\n",
    "            pred += self.learning_rate * m.predict(X)\n",
    "        return pred / len(models)\n",
    "        \n",
    "    def predict(self, X, models=None):\n",
    "        return np.around(-self._predict_est(X, models)).astype(int)"
   ]
  },
  {
   "cell_type": "code",
   "execution_count": 62,
   "metadata": {},
   "outputs": [],
   "source": [
    "my_clf = MyGradientBoostingClassifier()\n",
    "clf = GradientBoostingClassifier()"
   ]
  },
  {
   "cell_type": "code",
   "execution_count": 63,
   "metadata": {},
   "outputs": [],
   "source": [
    "wine = load_wine()\n",
    "X_train, X_test, y_train, y_test = train_test_split(wine.data, wine.target, test_size=0.1, stratify=wine.target)"
   ]
  },
  {
   "cell_type": "code",
   "execution_count": 64,
   "metadata": {},
   "outputs": [
    {
     "name": "stdout",
     "output_type": "stream",
     "text": [
      "0.9444444444444444\n",
      "0.9444444444444444\n"
     ]
    }
   ],
   "source": [
    "my_clf.fit(X_train, y_train)\n",
    "clf.fit(X_train, y_train)\n",
    "print(accuracy_score(y_pred=clf.predict(X_test), y_true=y_test))\n",
    "print(accuracy_score(y_pred=my_clf.predict(X_test), y_true=y_test))"
   ]
  },
  {
   "cell_type": "markdown",
   "metadata": {},
   "source": [
    "## Подбираем параметры (2 балла)\n",
    "\n",
    "Давайте попробуем применить Ваш бустинг для предсказаний цены домов в Калифорнии. Чтобы можно было попробовать\n",
    "разные функции потерь, переведем по порогу таргет в 2 класса: дорогие и дешевые дома."
   ]
  },
  {
   "cell_type": "markdown",
   "metadata": {},
   "source": [
    "В задании нужно\n",
    "\n",
    "1) Построить график точности в зависимости от числа итераций на валидации.\n",
    "\n",
    "2) Подобрать оптимальные параметры Вашего бустинга на валидации. \n"
   ]
  },
  {
   "cell_type": "code",
   "execution_count": 67,
   "metadata": {},
   "outputs": [],
   "source": [
    "from sklearn.datasets import fetch_california_housing\n",
    "X, y = fetch_california_housing(return_X_y=True)"
   ]
  },
  {
   "cell_type": "code",
   "execution_count": 68,
   "metadata": {},
   "outputs": [
    {
     "name": "stdout",
     "output_type": "stream",
     "text": [
      "(20640, 8) (20640,)\n"
     ]
    }
   ],
   "source": [
    "# Превращаем регрессию в классификацию\n",
    "y = (y > 2.0).astype(int)\n",
    "print(X.shape, y.shape)"
   ]
  },
  {
   "cell_type": "code",
   "execution_count": 69,
   "metadata": {},
   "outputs": [],
   "source": [
    "X_train, X_test, y_train, y_test = train_test_split(X, y, test_size=0.1, stratify=y)"
   ]
  },
  {
   "cell_type": "code",
   "execution_count": 74,
   "metadata": {},
   "outputs": [
    {
     "name": "stdout",
     "output_type": "stream",
     "text": [
      "n_estimators: 20 accuracy: 0.7937659852197837\n",
      "n_estimators: 60 accuracy: 0.8219204864345663\n",
      "n_estimators: 100 accuracy: 0.826657935492657\n",
      "n_estimators: 200 accuracy: 0.8295648224476165\n",
      "n_estimators: 300 accuracy: 0.8327947821576913\n"
     ]
    },
    {
     "data": {
      "text/plain": [
       "[<matplotlib.lines.Line2D at 0x262facbb9d0>]"
      ]
     },
     "execution_count": 74,
     "metadata": {},
     "output_type": "execute_result"
    },
    {
     "data": {
      "image/png": "[encoded data removed]",
      "text/plain": [
       "<Figure size 432x288 with 1 Axes>"
      ]
     },
     "metadata": {
      "needs_background": "light"
     },
     "output_type": "display_data"
    }
   ],
   "source": [
    "estimators = [20, 60, 100, 200, 300]\n",
    "\n",
    "def find_best_n_estimators(est):\n",
    "    accuracy = []\n",
    "    for n_estimators in est:\n",
    "        kf = KFold(n_splits=5)\n",
    "        scores = []\n",
    "        for train_index, val_index in kf.split(X_train):\n",
    "            my_clf = MyGradientBoostingClassifier(learning_rate=1, n_estimator=n_estimators)\n",
    "            data_train, data_val = X_train[train_index], X_train[val_index]\n",
    "            target_train, target_val = y_train[train_index], y_train[val_index]\n",
    "            my_clf.fit(data_train, target_train, DecisionTreeRegressor)\n",
    "            prediction = my_clf.predict(data_val)\n",
    "            score = accuracy_score(target_val, prediction)\n",
    "            scores.append(score)\n",
    "        scores = np.mean(scores)\n",
    "        accuracy.append(scores)\n",
    "        print(f\"n_estimators: {n_estimators} accuracy: {scores}\")\n",
    "    return accuracy\n",
    "n_estimators = find_best_n_estimators(estimators)\n",
    "\n",
    "plt.xlabel('n estimators')\n",
    "plt.ylabel('accuracy')\n",
    "plt.plot(estimators, n_estimators)"
   ]
  },
  {
   "cell_type": "code",
   "execution_count": 77,
   "metadata": {},
   "outputs": [
    {
     "name": "stdout",
     "output_type": "stream",
     "text": [
      "subsample: 0.2 accuracy: 0.8121230516032666\n",
      "subsample: 0.4 accuracy: 0.8276807287825951\n",
      "subsample: 0.6 accuracy: 0.8372627914355297\n",
      "subsample: 0.8 accuracy: 0.8442074503764594\n",
      "subsample: 1 accuracy: 0.8508287468109244\n"
     ]
    },
    {
     "data": {
      "text/plain": [
       "[<matplotlib.lines.Line2D at 0x262fcd18e50>]"
      ]
     },
     "execution_count": 77,
     "metadata": {},
     "output_type": "execute_result"
    },
    {
     "data": {
      "image/png": "[encoded data removed]",
      "text/plain": [
       "<Figure size 432x288 with 1 Axes>"
      ]
     },
     "metadata": {
      "needs_background": "light"
     },
     "output_type": "display_data"
    }
   ],
   "source": [
    "subsamples = [0.2, 0.4, 0.6, 0.8, 1]\n",
    "\n",
    "def find_best_subsamples(subs):\n",
    "    accuracy = []\n",
    "    for subsample in subs:\n",
    "        kf = KFold(n_splits=5)\n",
    "        scores = []\n",
    "        for train_index, val_index in kf.split(X_train):\n",
    "            my_clf = MyGradientBoostingClassifier(learning_rate=1, n_estimator=100, subsample=subsample)\n",
    "            data_train, data_val = X_train[train_index], X_train[val_index]\n",
    "            target_train, target_val = y_train[train_index], y_train[val_index]\n",
    "            my_clf.fit(data_train, target_train, DecisionTreeRegressor)\n",
    "            prediction = my_clf.predict(data_val)\n",
    "            score = accuracy_score(target_val, prediction)\n",
    "            scores.append(score)\n",
    "        scores = np.mean(scores)\n",
    "        accuracy.append(scores)\n",
    "        print(f\"subsample: {subsample} accuracy: {scores}\")\n",
    "    return accuracy\n",
    "accuracy = find_best_subsamples(subsamples)\n",
    "\n",
    "plt.xlabel('percent of objects during training')\n",
    "plt.ylabel('accuracy')\n",
    "plt.plot(subsamples, accuracy)"
   ]
  },
  {
   "cell_type": "code",
   "execution_count": 79,
   "metadata": {},
   "outputs": [
    {
     "name": "stdout",
     "output_type": "stream",
     "text": [
      "colsample: 0.2 accuracy: 0.8437228122686516\n",
      "colsample: 0.4 accuracy: 0.8488907883699603\n",
      "colsample: 0.6 accuracy: 0.8474911444743694\n",
      "colsample: 0.8 accuracy: 0.8454991184315179\n",
      "colsample: 1 accuracy: 0.8317720613055906\n"
     ]
    },
    {
     "data": {
      "text/plain": [
       "[<matplotlib.lines.Line2D at 0x262fcd7fc40>]"
      ]
     },
     "execution_count": 79,
     "metadata": {},
     "output_type": "execute_result"
    },
    {
     "data": {
      "image/png": "[encoded data removed]",
      "text/plain": [
       "<Figure size 432x288 with 1 Axes>"
      ]
     },
     "metadata": {
      "needs_background": "light"
     },
     "output_type": "display_data"
    }
   ],
   "source": [
    "percent = [0.2, 0.4, 0.6, 0.8, 1]\n",
    "\n",
    "def find_best_feat_percent(cols):\n",
    "    accuracy = []\n",
    "    for colsample in cols:\n",
    "        kf = KFold(n_splits=5)\n",
    "        scores = []\n",
    "        for train_index, val_index in kf.split(X_train):\n",
    "            my_clf = MyGradientBoostingClassifier(learning_rate=1, n_estimator=100, subsample=1, colsample=colsample)\n",
    "            data_train, data_val = X_train[train_index], X_train[val_index]\n",
    "            target_train, target_val = y_train[train_index], y_train[val_index]\n",
    "            my_clf.fit(data_train, target_train, DecisionTreeRegressor)\n",
    "            prediction = my_clf.predict(data_val)\n",
    "            score = accuracy_score(target_val, prediction)\n",
    "            scores.append(score)\n",
    "        scores = np.mean(scores)\n",
    "        accuracy.append(scores)\n",
    "        print(f\"colsample: {colsample} accuracy: {scores}\")\n",
    "    return accuracy\n",
    "accuracy = find_best_feat_percent(percent)\n",
    "\n",
    "plt.xlabel('percent of features during training')\n",
    "plt.ylabel('accuracy')\n",
    "plt.plot(percent, accuracy)"
   ]
  },
  {
   "cell_type": "code",
   "execution_count": 82,
   "metadata": {},
   "outputs": [
    {
     "name": "stdout",
     "output_type": "stream",
     "text": [
      "Depth: 3 accuracy: 0.6573525998664246\n",
      "Depth: 5 accuracy: 0.720122419945324\n",
      "Depth: 7 accuracy: 0.768302955318893\n",
      "Depth: 10 accuracy: 0.814707126579326\n",
      "Depth: 20 accuracy: 0.8494291029153331\n",
      "Depth: 30 accuracy: 0.8491061605483254\n",
      "Depth: 40 accuracy: 0.8503981907925715\n",
      "Depth: 50 accuracy: 0.8495907407058633\n"
     ]
    },
    {
     "data": {
      "text/plain": [
       "[<matplotlib.lines.Line2D at 0x262face3220>]"
      ]
     },
     "execution_count": 82,
     "metadata": {},
     "output_type": "execute_result"
    },
    {
     "data": {
      "image/png": "[encoded data removed]",
      "text/plain": [
       "<Figure size 432x288 with 1 Axes>"
      ]
     },
     "metadata": {
      "needs_background": "light"
     },
     "output_type": "display_data"
    }
   ],
   "source": [
    "depth = [3, 5, 7, 10, 20, 30, 40, 50]\n",
    "\n",
    "def find_best_max_depth(depth):\n",
    "    accuracy = []\n",
    "    for max_depth in depth:\n",
    "        kf = KFold(n_splits=5)\n",
    "        scores = []\n",
    "        for train_index, val_index in kf.split(X_train):\n",
    "            my_clf = MyGradientBoostingClassifier(loss='logit', learning_rate=1,\\\n",
    "                                                  n_estimator=100, subsample=1, colsample=0.4, max_depth=max_depth)\n",
    "            data_train, data_val = X_train[train_index], X_train[val_index]\n",
    "            target_train, target_val = y_train[train_index], y_train[val_index]\n",
    "            my_clf.fit(data_train, target_train, DecisionTreeRegressor)\n",
    "            prediction = my_clf.predict(data_val)\n",
    "            score = accuracy_score(target_val, prediction)\n",
    "            scores.append(score)\n",
    "        scores = np.mean(scores)\n",
    "        accuracy.append(scores)\n",
    "        print(f\"Depth: {max_depth} accuracy: {scores}\")\n",
    "    return accuracy\n",
    "accuracy = find_best_max_depth(depth)\n",
    "\n",
    "plt.xlabel('depth')\n",
    "plt.ylabel('accuracy')\n",
    "plt.plot(depth, accuracy)"
   ]
  },
  {
   "cell_type": "code",
   "execution_count": 83,
   "metadata": {},
   "outputs": [
    {
     "name": "stdout",
     "output_type": "stream",
     "text": [
      "learning rate: 0.01 accuracy: 0.5780571737363581\n",
      "learning rate: 0.1 accuracy: 0.5780571737363581\n",
      "learning rate: 0.3 accuracy: 0.5780571737363581\n",
      "learning rate: 0.5 accuracy: 0.5780571737363581\n",
      "learning rate: 0.7 accuracy: 0.5780571737363581\n",
      "learning rate: 0.9 accuracy: 0.7994184545532251\n",
      "learning rate: 1 accuracy: 0.8489984599715754\n"
     ]
    },
    {
     "data": {
      "text/plain": [
       "[<matplotlib.lines.Line2D at 0x262f1b58160>]"
      ]
     },
     "execution_count": 83,
     "metadata": {},
     "output_type": "execute_result"
    },
    {
     "data": {
      "image/png": "[encoded data removed]",
      "text/plain": [
       "<Figure size 432x288 with 1 Axes>"
      ]
     },
     "metadata": {
      "needs_background": "light"
     },
     "output_type": "display_data"
    }
   ],
   "source": [
    "lr = [0.01, 0.1, 0.3, 0.5, 0.7, 0.9, 1]\n",
    "\n",
    "def find_best_learning_rate(lr):\n",
    "    accuracy = []\n",
    "    for learning_rate in lr:\n",
    "        kf = KFold(n_splits=5)\n",
    "        scores = []\n",
    "        for train_index, val_index in kf.split(X_train):\n",
    "            my_clf = MyGradientBoostingClassifier(loss='logit', learning_rate=learning_rate, n_estimator=100,\\\n",
    "                                                  subsample=1, colsample=0.4, max_depth=30)\n",
    "            data_train, data_val = X_train[train_index], X_train[val_index]\n",
    "            target_train, target_val = y_train[train_index], y_train[val_index]\n",
    "            my_clf.fit(data_train, target_train, DecisionTreeRegressor)\n",
    "            prediction = my_clf.predict(data_val)\n",
    "            score = accuracy_score(target_val, prediction)\n",
    "            scores.append(score)\n",
    "        scores = np.mean(scores)\n",
    "        accuracy.append(scores)\n",
    "        print(f\"learning rate: {learning_rate} accuracy: {scores}\")\n",
    "    return accuracy\n",
    "accuracy = find_best_learning_rate(lr)\n",
    "\n",
    "plt.xlabel('learning rate')\n",
    "plt.ylabel('accuracy')\n",
    "plt.plot(lr, accuracy)"
   ]
  },
  {
   "cell_type": "markdown",
   "metadata": {},
   "source": [
    "##### Получившееся параметры: loss = \"logit\", learning_rate = 1, n_estimators = 100, subsample = 1.0, colsample = 0.4, max_depth = 30"
   ]
  },
  {
   "cell_type": "code",
   "execution_count": 85,
   "metadata": {},
   "outputs": [
    {
     "name": "stdout",
     "output_type": "stream",
     "text": [
      "0.8531976744186046\n"
     ]
    }
   ],
   "source": [
    "my_clf = MyGradientBoostingClassifier(loss='logit', learning_rate=1,\\\n",
    "                                      n_estimator=100, subsample=1, colsample=0.4, max_depth=30)\n",
    "my_clf.fit(X_train, y_train, DecisionTreeRegressor)\n",
    "max_accuracy = accuracy_score(my_clf.predict(X_test), y_test)\n",
    "print(max_accuracy)"
   ]
  },
  {
   "cell_type": "markdown",
   "metadata": {},
   "source": [
    "## BooBag BagBoo (1 балл)\n",
    "\n"
   ]
  },
  {
   "cell_type": "markdown",
   "metadata": {},
   "source": [
    "Попробуем объединить бустинг и бэгинг. Давайте\n",
    "\n",
    "1) в качестве базовой модели брать не дерево решений, а случайный лес (из sklearn)\n",
    "\n",
    "2) обучать N бустингов на бустрапированной выборке, а затем предикт усреднять"
   ]
  },
  {
   "cell_type": "markdown",
   "metadata": {},
   "source": [
    "Попробуйте обе этих стратегии на данных из прошлого задания. Получилось ли улучшить качество? Почему?"
   ]
  },
  {
   "cell_type": "code",
   "execution_count": 92,
   "metadata": {},
   "outputs": [
    {
     "data": {
      "text/plain": [
       "(0.8531976744186046, 0.8406007751937985)"
      ]
     },
     "execution_count": 92,
     "metadata": {},
     "output_type": "execute_result"
    }
   ],
   "source": [
    "my_clf = MyGradientBoostingClassifier(loss='logit', learning_rate=1, n_estimator=100, subsample=1,\\\n",
    "                                      colsample=0.4, n_estimators=100)\n",
    "my_clf.fit(X_train, y_train, RandomForestRegressor)\n",
    "\n",
    "(max_accuracy, accuracy_score(my_clf.predict(X_test), y_test))"
   ]
  },
  {
   "cell_type": "code",
   "execution_count": 91,
   "metadata": {},
   "outputs": [
    {
     "data": {
      "text/plain": [
       "(0.8531976744186046, 0.8473837209302325)"
      ]
     },
     "execution_count": 91,
     "metadata": {},
     "output_type": "execute_result"
    }
   ],
   "source": [
    "classificators = []\n",
    "for _ in range(50):\n",
    "    i_dx = np.random.choice(X_train.shape[0], X_train.shape[0], replace=True)\n",
    "    X_sub = X_train[i_dx]\n",
    "    y_sub = y_train[i_dx]\n",
    "    my_clf = MyGradientBoostingClassifier(loss='logit', learning_rate=1, n_estimator=100, subsample=1, colsample=0.4)\n",
    "    my_clf.fit(X_sub, y_sub, DecisionTreeRegressor)\n",
    "    classificators.append(my_clf)\n",
    "\n",
    "prediction = classificators[0].predict(X_test)\n",
    "for m in classificators[1:]:\n",
    "    prediction += m.predict(X_test)\n",
    "prediction = (np.around(prediction/len(classificators))).astype(int)\n",
    "\n",
    "(max_accuracy, accuracy_score(prediction, y_test))"
   ]
  },
  {
   "cell_type": "markdown",
   "metadata": {},
   "source": [
    "#### Вывод:\n",
    "BagBoo и BooBag имеют больше гиперпараметров для настройки (отдельно гиперпараметры baggingа и отдельно boostingа), что делает их сложнее в применении. В принципе, при хорошей настройке результат должен быть лучше, но в данном случае добиться улучшения не удалось."
   ]
  },
  {
   "cell_type": "markdown",
   "metadata": {
    "collapsed": true
   },
   "source": [
    "## Умная инициализация (1 балл)\n",
    "\n",
    "Попробуйте брать в качестве инициализации бустинга не константу, а какой-то алгоритм и уже от его предикта стартовать итерации бустинга. Попробуйте разные модели из sklearn: линейные модели, рандом форест, svm..\n",
    "\n",
    "Получилось ли улучшить качество? Почему?\n",
    "\n"
   ]
  },
  {
   "cell_type": "code",
   "execution_count": 94,
   "metadata": {},
   "outputs": [],
   "source": [
    "my_clf = MyGradientBoostingClassifier(loss='logit', learning_rate=1, n_estimator=100, subsample=1,\\\n",
    "                                      colsample=0.4, max_depth=20)"
   ]
  },
  {
   "cell_type": "code",
   "execution_count": 95,
   "metadata": {},
   "outputs": [
    {
     "name": "stdout",
     "output_type": "stream",
     "text": [
      "model: constant; accuracy: 0.8527131782945736\n"
     ]
    }
   ],
   "source": [
    "my_clf.fit(X_train, y_train, DecisionTreeRegressor, init_model=None)\n",
    "accuracy = accuracy_score(my_clf.predict(X_test), y_test)\n",
    "print(f\"model: constant; accuracy: {accuracy}\")"
   ]
  },
  {
   "cell_type": "code",
   "execution_count": 96,
   "metadata": {},
   "outputs": [
    {
     "name": "stdout",
     "output_type": "stream",
     "text": [
      "model: Linear Regressor; accuracy: 0.8561046511627907\n"
     ]
    }
   ],
   "source": [
    "my_clf.fit(X_train, y_train, DecisionTreeRegressor, init_model=LinearRegression)\n",
    "accuracy = accuracy_score(my_clf.predict(X_test), y_test)\n",
    "print(f\"model: Linear Regressor; accuracy: {accuracy}\")"
   ]
  },
  {
   "cell_type": "code",
   "execution_count": 97,
   "metadata": {},
   "outputs": [
    {
     "name": "stdout",
     "output_type": "stream",
     "text": [
      "model: KNeighbors Regressor; accuracy: 0.8565891472868217\n"
     ]
    }
   ],
   "source": [
    "my_clf.fit(X_train, y_train, DecisionTreeRegressor, init_model=KNeighborsRegressor)\n",
    "accuracy = accuracy_score(my_clf.predict(X_test), y_test)\n",
    "print(f\"model: KNeighbors Regressor; accuracy: {accuracy}\")"
   ]
  },
  {
   "cell_type": "code",
   "execution_count": 98,
   "metadata": {},
   "outputs": [
    {
     "name": "stdout",
     "output_type": "stream",
     "text": [
      "model: DecisionTree Regressor; accuracy: 0.8565891472868217\n"
     ]
    }
   ],
   "source": [
    "my_clf.fit(X_train, y_train, DecisionTreeRegressor, init_model=DecisionTreeRegressor)\n",
    "accuracy = accuracy_score(my_clf.predict(X_test), y_test)\n",
    "print(f\"model: DecisionTree Regressor; accuracy: {accuracy}\")"
   ]
  },
  {
   "cell_type": "code",
   "execution_count": 99,
   "metadata": {},
   "outputs": [
    {
     "name": "stdout",
     "output_type": "stream",
     "text": [
      "model: RandomForest Regressor; accuracy: 0.8570736434108527\n"
     ]
    }
   ],
   "source": [
    "my_clf.fit(X_train, y_train, DecisionTreeRegressor, init_model=RandomForestRegressor)\n",
    "accuracy = accuracy_score(my_clf.predict(X_test), y_test)\n",
    "print(f\"model: RandomForest Regressor; accuracy: {accuracy}\")"
   ]
  },
  {
   "cell_type": "code",
   "execution_count": 102,
   "metadata": {},
   "outputs": [
    {
     "name": "stdout",
     "output_type": "stream",
     "text": [
      "model: SVR; accuracy: 0.8565891472868217\n"
     ]
    }
   ],
   "source": [
    "my_clf.fit(X_train, y_train, DecisionTreeRegressor, init_model=SVR)\n",
    "accuracy = accuracy_score(my_clf.predict(X_test), y_test)\n",
    "print(f\"model: SVR; accuracy: {accuracy}\")"
   ]
  },
  {
   "cell_type": "markdown",
   "metadata": {},
   "source": [
    "#### Вывод:\n",
    "Наибольший потенциал имеет использование RandomForestRegressor.\n",
    "\n",
    "\n",
    "Чуть хуже работают SVR, DecisionTreeRegressor, KNeighborsRegressor, LinearRegressor.\n",
    "\n",
    "\n",
    "Проблема та же - больше гиперпараметров, требуется лучшая настройка."
   ]
  },
  {
   "cell_type": "markdown",
   "metadata": {},
   "source": [
    "## Фидбек (бесценно)"
   ]
  },
  {
   "cell_type": "markdown",
   "metadata": {},
   "source": [
    "* Какие аспекты обучения  ансамблей Вам показались непонятными? Какое место стоит дополнительно объяснить?"
   ]
  },
  {
   "cell_type": "markdown",
   "metadata": {},
   "source": [
    "### Ваш ответ здесь"
   ]
  },
  {
   "cell_type": "markdown",
   "metadata": {},
   "source": [
    "* Здесь Вы можете оставить отзыв о этой домашней работе или о всем курсе."
   ]
  },
  {
   "cell_type": "markdown",
   "metadata": {},
   "source": [
    "### ВАШ ОТЗЫВ ЗДЕСЬ\n",
    "\n"
   ]
  },
  {
   "cell_type": "code",
   "execution_count": null,
   "metadata": {},
   "outputs": [],
   "source": []
  },
  {
   "cell_type": "code",
   "execution_count": null,
   "metadata": {
    "collapsed": true
   },
   "outputs": [],
   "source": []
  }
 ],
 "metadata": {
  "anaconda-cloud": {},
  "kernelspec": {
   "display_name": "Python 3",
   "language": "python",
   "name": "python3"
  },
  "language_info": {
   "codemirror_mode": {
    "name": "ipython",
    "version": 3
   },
   "file_extension": ".py",
   "mimetype": "text/x-python",
   "name": "python",
   "nbconvert_exporter": "python",
   "pygments_lexer": "ipython3",
   "version": "3.8.5"
  }
 },
 "nbformat": 4,
 "nbformat_minor": 2
}
